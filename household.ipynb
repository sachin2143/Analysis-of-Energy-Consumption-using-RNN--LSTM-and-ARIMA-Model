{
 "cells": [
  {
   "cell_type": "code",
   "execution_count": 1,
   "metadata": {},
   "outputs": [],
   "source": [
    "import pandas as pd\n",
    "import os"
   ]
  },
  {
   "cell_type": "code",
   "execution_count": 2,
   "metadata": {},
   "outputs": [
    {
     "data": {
      "text/plain": [
       "'C:\\\\Users\\\\User\\\\Household-Power-Cosumption-LSTM-master'"
      ]
     },
     "execution_count": 2,
     "metadata": {},
     "output_type": "execute_result"
    }
   ],
   "source": [
    "pwd"
   ]
  },
  {
   "cell_type": "code",
   "execution_count": 3,
   "metadata": {},
   "outputs": [],
   "source": [
    "data=pd.read_csv(\"household_power_consumption_mod.csv\",header=0,infer_datetime_format=True,parse_dates=['datetime'],index_col=['datetime'])"
   ]
  },
  {
   "cell_type": "code",
   "execution_count": 4,
   "metadata": {},
   "outputs": [
    {
     "data": {
      "text/html": [
       "<div>\n",
       "<style scoped>\n",
       "    .dataframe tbody tr th:only-of-type {\n",
       "        vertical-align: middle;\n",
       "    }\n",
       "\n",
       "    .dataframe tbody tr th {\n",
       "        vertical-align: top;\n",
       "    }\n",
       "\n",
       "    .dataframe thead th {\n",
       "        text-align: right;\n",
       "    }\n",
       "</style>\n",
       "<table border=\"1\" class=\"dataframe\">\n",
       "  <thead>\n",
       "    <tr style=\"text-align: right;\">\n",
       "      <th></th>\n",
       "      <th>Global_active_power</th>\n",
       "      <th>Global_reactive_power</th>\n",
       "      <th>Voltage</th>\n",
       "      <th>Global_intensity</th>\n",
       "      <th>Sub_metering_1</th>\n",
       "      <th>Sub_metering_2</th>\n",
       "      <th>Sub_metering_3</th>\n",
       "      <th>Sub_metering_4</th>\n",
       "    </tr>\n",
       "    <tr>\n",
       "      <th>datetime</th>\n",
       "      <th></th>\n",
       "      <th></th>\n",
       "      <th></th>\n",
       "      <th></th>\n",
       "      <th></th>\n",
       "      <th></th>\n",
       "      <th></th>\n",
       "      <th></th>\n",
       "    </tr>\n",
       "  </thead>\n",
       "  <tbody>\n",
       "    <tr>\n",
       "      <td>2006-12-16 17:24:00</td>\n",
       "      <td>4.216</td>\n",
       "      <td>0.418</td>\n",
       "      <td>234.84</td>\n",
       "      <td>18.4</td>\n",
       "      <td>0.0</td>\n",
       "      <td>1.0</td>\n",
       "      <td>17.0</td>\n",
       "      <td>52.266670</td>\n",
       "    </tr>\n",
       "    <tr>\n",
       "      <td>2006-12-16 17:25:00</td>\n",
       "      <td>5.360</td>\n",
       "      <td>0.436</td>\n",
       "      <td>233.63</td>\n",
       "      <td>23.0</td>\n",
       "      <td>0.0</td>\n",
       "      <td>1.0</td>\n",
       "      <td>16.0</td>\n",
       "      <td>72.333336</td>\n",
       "    </tr>\n",
       "    <tr>\n",
       "      <td>2006-12-16 17:26:00</td>\n",
       "      <td>5.374</td>\n",
       "      <td>0.498</td>\n",
       "      <td>233.29</td>\n",
       "      <td>23.0</td>\n",
       "      <td>0.0</td>\n",
       "      <td>2.0</td>\n",
       "      <td>17.0</td>\n",
       "      <td>70.566666</td>\n",
       "    </tr>\n",
       "    <tr>\n",
       "      <td>2006-12-16 17:27:00</td>\n",
       "      <td>5.388</td>\n",
       "      <td>0.502</td>\n",
       "      <td>233.74</td>\n",
       "      <td>23.0</td>\n",
       "      <td>0.0</td>\n",
       "      <td>1.0</td>\n",
       "      <td>17.0</td>\n",
       "      <td>71.800000</td>\n",
       "    </tr>\n",
       "    <tr>\n",
       "      <td>2006-12-16 17:28:00</td>\n",
       "      <td>3.666</td>\n",
       "      <td>0.528</td>\n",
       "      <td>235.68</td>\n",
       "      <td>15.8</td>\n",
       "      <td>0.0</td>\n",
       "      <td>1.0</td>\n",
       "      <td>17.0</td>\n",
       "      <td>43.100000</td>\n",
       "    </tr>\n",
       "  </tbody>\n",
       "</table>\n",
       "</div>"
      ],
      "text/plain": [
       "                     Global_active_power  Global_reactive_power  Voltage  \\\n",
       "datetime                                                                   \n",
       "2006-12-16 17:24:00                4.216                  0.418   234.84   \n",
       "2006-12-16 17:25:00                5.360                  0.436   233.63   \n",
       "2006-12-16 17:26:00                5.374                  0.498   233.29   \n",
       "2006-12-16 17:27:00                5.388                  0.502   233.74   \n",
       "2006-12-16 17:28:00                3.666                  0.528   235.68   \n",
       "\n",
       "                     Global_intensity  Sub_metering_1  Sub_metering_2  \\\n",
       "datetime                                                                \n",
       "2006-12-16 17:24:00              18.4             0.0             1.0   \n",
       "2006-12-16 17:25:00              23.0             0.0             1.0   \n",
       "2006-12-16 17:26:00              23.0             0.0             2.0   \n",
       "2006-12-16 17:27:00              23.0             0.0             1.0   \n",
       "2006-12-16 17:28:00              15.8             0.0             1.0   \n",
       "\n",
       "                     Sub_metering_3  Sub_metering_4  \n",
       "datetime                                             \n",
       "2006-12-16 17:24:00            17.0       52.266670  \n",
       "2006-12-16 17:25:00            16.0       72.333336  \n",
       "2006-12-16 17:26:00            17.0       70.566666  \n",
       "2006-12-16 17:27:00            17.0       71.800000  \n",
       "2006-12-16 17:28:00            17.0       43.100000  "
      ]
     },
     "execution_count": 4,
     "metadata": {},
     "output_type": "execute_result"
    }
   ],
   "source": [
    "data.head()"
   ]
  },
  {
   "cell_type": "code",
   "execution_count": 5,
   "metadata": {},
   "outputs": [],
   "source": [
    "daily_data=data.resample('D').sum()"
   ]
  },
  {
   "cell_type": "code",
   "execution_count": 6,
   "metadata": {},
   "outputs": [],
   "source": [
    "import matplotlib.pyplot as plt\n",
    "%matplotlib inline"
   ]
  },
  {
   "cell_type": "code",
   "execution_count": 7,
   "metadata": {},
   "outputs": [
    {
     "name": "stderr",
     "output_type": "stream",
     "text": [
      "F:\\anaconda\\lib\\site-packages\\pandas\\plotting\\_matplotlib\\converter.py:103: FutureWarning: Using an implicitly registered datetime converter for a matplotlib plotting method. The converter was registered by pandas on import. Future versions of pandas will require you to explicitly register matplotlib converters.\n",
      "\n",
      "To register the converters:\n",
      "\t>>> from pandas.plotting import register_matplotlib_converters\n",
      "\t>>> register_matplotlib_converters()\n",
      "  warnings.warn(msg, FutureWarning)\n"
     ]
    },
    {
     "data": {
      "text/plain": [
       "[<matplotlib.lines.Line2D at 0x89031c5e48>]"
      ]
     },
     "execution_count": 7,
     "metadata": {},
     "output_type": "execute_result"
    },
    {
     "data": {
      "image/png": "[encoded data removed]",
      "text/plain": [
       "<Figure size 1080x720 with 1 Axes>"
      ]
     },
     "metadata": {
      "needs_background": "light"
     },
     "output_type": "display_data"
    }
   ],
   "source": [
    "plt.figure(figsize=(15,10))\n",
    "plt.plot(daily_data['Global_active_power'])"
   ]
  },
  {
   "cell_type": "code",
   "execution_count": 8,
   "metadata": {},
   "outputs": [],
   "source": [
    "#You may save the CSV file according to the days\n",
    "daily_data.to_csv(\"household_daily.csv\")"
   ]
  },
  {
   "cell_type": "code",
   "execution_count": 12,
   "metadata": {},
   "outputs": [],
   "source": [
    "from sklearn.metrics import mean_squared_error"
   ]
  },
  {
   "cell_type": "code",
   "execution_count": 13,
   "metadata": {},
   "outputs": [],
   "source": [
    "def forecasts(act,pred):\n",
    "    scores=[]\n",
    "    for i in range(act.shape[1]):\n",
    "        mse=mean_squared_error(act[:,i],pred[:,i])\n",
    "        rmse=np.sqrt(mse)\n",
    "        scores.append(rmse)\n",
    "    s=0\n",
    "    for row in range(act.shape[0]):\n",
    "        for col in range(act.shape[1]):\n",
    "            s+=(act[row,col]-pred[row,col])**2\n",
    "    score=np.sqrt(s/(act.shape[0]*act.shape[1]))\n",
    "    return score,scores"
   ]
  },
  {
   "cell_type": "code",
   "execution_count": 14,
   "metadata": {},
   "outputs": [
    {
     "data": {
      "text/html": [
       "<div>\n",
       "<style scoped>\n",
       "    .dataframe tbody tr th:only-of-type {\n",
       "        vertical-align: middle;\n",
       "    }\n",
       "\n",
       "    .dataframe tbody tr th {\n",
       "        vertical-align: top;\n",
       "    }\n",
       "\n",
       "    .dataframe thead th {\n",
       "        text-align: right;\n",
       "    }\n",
       "</style>\n",
       "<table border=\"1\" class=\"dataframe\">\n",
       "  <thead>\n",
       "    <tr style=\"text-align: right;\">\n",
       "      <th></th>\n",
       "      <th>Global_active_power</th>\n",
       "      <th>Global_reactive_power</th>\n",
       "      <th>Voltage</th>\n",
       "      <th>Global_intensity</th>\n",
       "      <th>Sub_metering_1</th>\n",
       "      <th>Sub_metering_2</th>\n",
       "      <th>Sub_metering_3</th>\n",
       "      <th>Sub_metering_4</th>\n",
       "    </tr>\n",
       "    <tr>\n",
       "      <th>datetime</th>\n",
       "      <th></th>\n",
       "      <th></th>\n",
       "      <th></th>\n",
       "      <th></th>\n",
       "      <th></th>\n",
       "      <th></th>\n",
       "      <th></th>\n",
       "      <th></th>\n",
       "    </tr>\n",
       "  </thead>\n",
       "  <tbody>\n",
       "    <tr>\n",
       "      <td>2006-12-16</td>\n",
       "      <td>1209.176</td>\n",
       "      <td>34.922</td>\n",
       "      <td>93552.53</td>\n",
       "      <td>5180.8</td>\n",
       "      <td>0.0</td>\n",
       "      <td>546.0</td>\n",
       "      <td>4926.0</td>\n",
       "      <td>14680.933319</td>\n",
       "    </tr>\n",
       "    <tr>\n",
       "      <td>2006-12-17</td>\n",
       "      <td>3390.460</td>\n",
       "      <td>226.006</td>\n",
       "      <td>345725.32</td>\n",
       "      <td>14398.6</td>\n",
       "      <td>2033.0</td>\n",
       "      <td>4187.0</td>\n",
       "      <td>13341.0</td>\n",
       "      <td>36946.666732</td>\n",
       "    </tr>\n",
       "    <tr>\n",
       "      <td>2006-12-18</td>\n",
       "      <td>2203.826</td>\n",
       "      <td>161.792</td>\n",
       "      <td>347373.64</td>\n",
       "      <td>9247.2</td>\n",
       "      <td>1063.0</td>\n",
       "      <td>2621.0</td>\n",
       "      <td>14018.0</td>\n",
       "      <td>19028.433281</td>\n",
       "    </tr>\n",
       "    <tr>\n",
       "      <td>2006-12-19</td>\n",
       "      <td>1666.194</td>\n",
       "      <td>150.942</td>\n",
       "      <td>348479.01</td>\n",
       "      <td>7094.0</td>\n",
       "      <td>839.0</td>\n",
       "      <td>7602.0</td>\n",
       "      <td>6197.0</td>\n",
       "      <td>13131.900043</td>\n",
       "    </tr>\n",
       "    <tr>\n",
       "      <td>2006-12-20</td>\n",
       "      <td>2225.748</td>\n",
       "      <td>160.998</td>\n",
       "      <td>348923.61</td>\n",
       "      <td>9313.0</td>\n",
       "      <td>0.0</td>\n",
       "      <td>2648.0</td>\n",
       "      <td>14063.0</td>\n",
       "      <td>20384.800011</td>\n",
       "    </tr>\n",
       "    <tr>\n",
       "      <td>...</td>\n",
       "      <td>...</td>\n",
       "      <td>...</td>\n",
       "      <td>...</td>\n",
       "      <td>...</td>\n",
       "      <td>...</td>\n",
       "      <td>...</td>\n",
       "      <td>...</td>\n",
       "      <td>...</td>\n",
       "    </tr>\n",
       "    <tr>\n",
       "      <td>2010-11-22</td>\n",
       "      <td>2041.536</td>\n",
       "      <td>142.354</td>\n",
       "      <td>345883.85</td>\n",
       "      <td>8660.4</td>\n",
       "      <td>4855.0</td>\n",
       "      <td>2110.0</td>\n",
       "      <td>10136.0</td>\n",
       "      <td>16924.600023</td>\n",
       "    </tr>\n",
       "    <tr>\n",
       "      <td>2010-11-23</td>\n",
       "      <td>1577.536</td>\n",
       "      <td>137.450</td>\n",
       "      <td>346428.76</td>\n",
       "      <td>6731.2</td>\n",
       "      <td>1871.0</td>\n",
       "      <td>458.0</td>\n",
       "      <td>7611.0</td>\n",
       "      <td>16352.266679</td>\n",
       "    </tr>\n",
       "    <tr>\n",
       "      <td>2010-11-24</td>\n",
       "      <td>1796.248</td>\n",
       "      <td>132.460</td>\n",
       "      <td>345644.59</td>\n",
       "      <td>7559.4</td>\n",
       "      <td>1096.0</td>\n",
       "      <td>2848.0</td>\n",
       "      <td>12224.0</td>\n",
       "      <td>13769.466664</td>\n",
       "    </tr>\n",
       "    <tr>\n",
       "      <td>2010-11-25</td>\n",
       "      <td>1431.164</td>\n",
       "      <td>116.128</td>\n",
       "      <td>347812.21</td>\n",
       "      <td>6004.0</td>\n",
       "      <td>1076.0</td>\n",
       "      <td>426.0</td>\n",
       "      <td>5072.0</td>\n",
       "      <td>17278.733338</td>\n",
       "    </tr>\n",
       "    <tr>\n",
       "      <td>2010-11-26</td>\n",
       "      <td>1488.104</td>\n",
       "      <td>120.826</td>\n",
       "      <td>303487.57</td>\n",
       "      <td>6259.8</td>\n",
       "      <td>1080.0</td>\n",
       "      <td>385.0</td>\n",
       "      <td>9989.0</td>\n",
       "      <td>13347.733336</td>\n",
       "    </tr>\n",
       "  </tbody>\n",
       "</table>\n",
       "<p>1442 rows × 8 columns</p>\n",
       "</div>"
      ],
      "text/plain": [
       "            Global_active_power  Global_reactive_power    Voltage  \\\n",
       "datetime                                                            \n",
       "2006-12-16             1209.176                 34.922   93552.53   \n",
       "2006-12-17             3390.460                226.006  345725.32   \n",
       "2006-12-18             2203.826                161.792  347373.64   \n",
       "2006-12-19             1666.194                150.942  348479.01   \n",
       "2006-12-20             2225.748                160.998  348923.61   \n",
       "...                         ...                    ...        ...   \n",
       "2010-11-22             2041.536                142.354  345883.85   \n",
       "2010-11-23             1577.536                137.450  346428.76   \n",
       "2010-11-24             1796.248                132.460  345644.59   \n",
       "2010-11-25             1431.164                116.128  347812.21   \n",
       "2010-11-26             1488.104                120.826  303487.57   \n",
       "\n",
       "            Global_intensity  Sub_metering_1  Sub_metering_2  Sub_metering_3  \\\n",
       "datetime                                                                       \n",
       "2006-12-16            5180.8             0.0           546.0          4926.0   \n",
       "2006-12-17           14398.6          2033.0          4187.0         13341.0   \n",
       "2006-12-18            9247.2          1063.0          2621.0         14018.0   \n",
       "2006-12-19            7094.0           839.0          7602.0          6197.0   \n",
       "2006-12-20            9313.0             0.0          2648.0         14063.0   \n",
       "...                      ...             ...             ...             ...   \n",
       "2010-11-22            8660.4          4855.0          2110.0         10136.0   \n",
       "2010-11-23            6731.2          1871.0           458.0          7611.0   \n",
       "2010-11-24            7559.4          1096.0          2848.0         12224.0   \n",
       "2010-11-25            6004.0          1076.0           426.0          5072.0   \n",
       "2010-11-26            6259.8          1080.0           385.0          9989.0   \n",
       "\n",
       "            Sub_metering_4  \n",
       "datetime                    \n",
       "2006-12-16    14680.933319  \n",
       "2006-12-17    36946.666732  \n",
       "2006-12-18    19028.433281  \n",
       "2006-12-19    13131.900043  \n",
       "2006-12-20    20384.800011  \n",
       "...                    ...  \n",
       "2010-11-22    16924.600023  \n",
       "2010-11-23    16352.266679  \n",
       "2010-11-24    13769.466664  \n",
       "2010-11-25    17278.733338  \n",
       "2010-11-26    13347.733336  \n",
       "\n",
       "[1442 rows x 8 columns]"
      ]
     },
     "execution_count": 14,
     "metadata": {},
     "output_type": "execute_result"
    }
   ],
   "source": [
    "daily_data"
   ]
  },
  {
   "cell_type": "code",
   "execution_count": 15,
   "metadata": {},
   "outputs": [],
   "source": [
    "def split(data):\n",
    "    train,test=data[1:-328],data[-328:-6]\n",
    "    train=np.array(np.split(train,len(train)/7))\n",
    "    test=np.array(np.split(test,len(test)/7))\n",
    "    return train,test"
   ]
  },
  {
   "cell_type": "code",
   "execution_count": 16,
   "metadata": {},
   "outputs": [],
   "source": [
    "def summarized_scores(name,score,scores):\n",
    "    s_scores=', '.join(['%.1f'%s for s in scores])\n",
    "    print('%s:[%.3f] %s'%(name,score,s_scores))"
   ]
  },
  {
   "cell_type": "code",
   "execution_count": 17,
   "metadata": {},
   "outputs": [],
   "source": [
    "def to_supervized(train,n_in,n_out):\n",
    "    data=train.reshape((train.shape[0]*train.shape[1],train.shape[2]))\n",
    "    X,y=[],[]\n",
    "    in_start=0\n",
    "    for i in range(len(data)):\n",
    "        in_end=in_start+n_in\n",
    "        out_end=in_end+n_out\n",
    "        if out_end<len(data):\n",
    "            x_in=data[in_start:in_end,0]\n",
    "            x_in=x_in.reshape((len(x_in),1))\n",
    "            X.append(x_in)\n",
    "            y.append(data[in_end:out_end,0])\n",
    "        in_start+=1\n",
    "    return np.array(X),np.array(y)"
   ]
  },
  {
   "cell_type": "code",
   "execution_count": 18,
   "metadata": {},
   "outputs": [
    {
     "name": "stderr",
     "output_type": "stream",
     "text": [
      "Using TensorFlow backend.\n"
     ]
    }
   ],
   "source": [
    "from keras.models import Sequential\n",
    "from keras.layers import Dense\n",
    "from keras.layers import Flatten\n",
    "from keras.layers import LSTM"
   ]
  },
  {
   "cell_type": "code",
   "execution_count": 19,
   "metadata": {},
   "outputs": [],
   "source": [
    "def build_model(train,n_input):\n",
    "    train_x,train_y=to_supervized(train,n_input,7)\n",
    "    verbose=0\n",
    "    epochs=70\n",
    "    batch_size=16\n",
    "    n_timesteps=train_x.shape[1]\n",
    "    n_features=train_x.shape[2]\n",
    "    n_outputs=train_y.shape[1]\n",
    "    model=Sequential()\n",
    "    model.add(LSTM(200,activation='relu',input_shape=(n_timesteps,n_features)))\n",
    "    model.add(Dense(100,activation='relu'))\n",
    "    model.add(Dense(n_outputs))\n",
    "    model.compile(loss='mse',optimizer='adam')\n",
    "    model.fit(train_x,train_y,epochs=epochs,batch_size=batch_size,verbose=verbose)\n",
    "    return model"
   ]
  },
  {
   "cell_type": "code",
   "execution_count": 20,
   "metadata": {},
   "outputs": [],
   "source": [
    "def forecast(model,history,n_input):\n",
    "    data=np.array(history)\n",
    "    data=data.reshape((data.shape[0]*data.shape[1],data.shape[2]))\n",
    "    in_x=data[-n_input:,0]\n",
    "    in_x=in_x.reshape((1,len(in_x),1))\n",
    "    yhat=model.predict(in_x,verbose=0)\n",
    "    return yhat[0]"
   ]
  },
  {
   "cell_type": "code",
   "execution_count": 21,
   "metadata": {},
   "outputs": [],
   "source": [
    "def evaluate_model(train,test,n_input):\n",
    "    model=build_model(train,n_input)\n",
    "    history=[x for x in train]\n",
    "    prediction=[]\n",
    "    for i in range(len(test)):\n",
    "        yhat_s=forecast(model,history,n_input)\n",
    "        prediction.append(yhat_s)\n",
    "        history.append(test[i,:])\n",
    "    prediction=np.array(prediction)\n",
    "    score,scores=forecasts(test[:,:,0],prediction)\n",
    "    return score,scores"
   ]
  },
  {
   "cell_type": "code",
   "execution_count": 23,
   "metadata": {},
   "outputs": [],
   "source": [
    "import numpy as np"
   ]
  },
  {
   "cell_type": "code",
   "execution_count": 24,
   "metadata": {},
   "outputs": [],
   "source": [
    "train,test=split(daily_data.values)"
   ]
  },
  {
   "cell_type": "code",
   "execution_count": 25,
   "metadata": {},
   "outputs": [
    {
     "data": {
      "text/plain": [
       "(159, 7, 8)"
      ]
     },
     "execution_count": 25,
     "metadata": {},
     "output_type": "execute_result"
    }
   ],
   "source": [
    "train.shape"
   ]
  },
  {
   "cell_type": "code",
   "execution_count": 26,
   "metadata": {},
   "outputs": [
    {
     "data": {
      "text/plain": [
       "(46, 7, 8)"
      ]
     },
     "execution_count": 26,
     "metadata": {},
     "output_type": "execute_result"
    }
   ],
   "source": [
    "test.shape"
   ]
  },
  {
   "cell_type": "code",
   "execution_count": 27,
   "metadata": {},
   "outputs": [],
   "source": [
    "score,scores=evaluate_model(train,test,14)"
   ]
  },
  {
   "cell_type": "code",
   "execution_count": 28,
   "metadata": {},
   "outputs": [
    {
     "name": "stdout",
     "output_type": "stream",
     "text": [
      "lstm:[376.477] 405.7, 400.1, 347.3, 361.1, 370.6, 302.8, 432.9\n"
     ]
    }
   ],
   "source": [
    "summarized_scores('lstm',score,scores)"
   ]
  },
  {
   "cell_type": "code",
   "execution_count": 29,
   "metadata": {},
   "outputs": [],
   "source": [
    "days=['sun','mon','tue','wed','thr','fri','sat']"
   ]
  },
  {
   "cell_type": "code",
   "execution_count": 30,
   "metadata": {},
   "outputs": [
    {
     "data": {
      "text/plain": [
       "[<matplotlib.lines.Line2D at 0x890b5d06c8>]"
      ]
     },
     "execution_count": 30,
     "metadata": {},
     "output_type": "execute_result"
    },
    {
     "data": {
      "image/png": "[encoded data removed]",
      "text/plain": [
       "<Figure size 720x360 with 1 Axes>"
      ]
     },
     "metadata": {
      "needs_background": "light"
     },
     "output_type": "display_data"
    }
   ],
   "source": [
    "plt.figure(figsize=(10,5))\n",
    "plt.plot(days,scores)"
   ]
  },
  {
   "cell_type": "code",
   "execution_count": null,
   "metadata": {},
   "outputs": [],
   "source": []
  }
 ],
 "metadata": {
  "kernelspec": {
   "display_name": "Python 3",
   "language": "python",
   "name": "python3"
  },
  "language_info": {
   "codemirror_mode": {
    "name": "ipython",
    "version": 3
   },
   "file_extension": ".py",
   "mimetype": "text/x-python",
   "name": "python",
   "nbconvert_exporter": "python",
   "pygments_lexer": "ipython3",
   "version": "3.7.4"
  }
 },
 "nbformat": 4,
 "nbformat_minor": 2
}
